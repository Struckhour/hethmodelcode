{
 "cells": [
  {
   "cell_type": "code",
   "execution_count": 1,
   "id": "437f4292-dba7-44c7-8591-38bd46c5b99f",
   "metadata": {},
   "outputs": [
    {
     "data": {
      "image/png": "[encoded data removed]",
      "text/plain": [
       "<Figure size 432x288 with 1 Axes>"
      ]
     },
     "metadata": {
      "needs_background": "light"
     },
     "output_type": "display_data"
    }
   ],
   "source": [
    "import numpy as np\n",
    "import matplotlib.pyplot as plt\n",
    "import os\n",
    "import cv2\n",
    "\n",
    "DATADIR = \"training_songs\"\n",
    "CATEGORIES = ['negatives', 'positives']\n",
    "\n",
    "for category in CATEGORIES:\n",
    "    path = os.path.join(DATADIR, category)\n",
    "    for img in os.listdir(path):\n",
    "        img_array = cv2.imread(os.path.join(path,img), cv2.IMREAD_GRAYSCALE)\n",
    "        plt.imshow(img_array, cmap=\"gray\")\n",
    "        break\n",
    "    break\n",
    "    "
   ]
  },
  {
   "cell_type": "code",
   "execution_count": 2,
   "id": "107944f8-32b1-4ba2-ab3b-4e12321f09f4",
   "metadata": {},
   "outputs": [
    {
     "name": "stdout",
     "output_type": "stream",
     "text": [
      "(623, 69)\n"
     ]
    }
   ],
   "source": [
    "print(img_array.shape)"
   ]
  },
  {
   "cell_type": "code",
   "execution_count": 3,
   "id": "50817284-b3be-4225-82c6-4d9a1750e6d9",
   "metadata": {},
   "outputs": [
    {
     "data": {
      "image/png": "[encoded data removed]",
      "text/plain": [
       "<Figure size 432x288 with 1 Axes>"
      ]
     },
     "metadata": {
      "needs_background": "light"
     },
     "output_type": "display_data"
    }
   ],
   "source": [
    "IMG_SIZE = 50\n",
    "\n",
    "new_array = cv2.resize(img_array, (69, 623))\n",
    "plt.imshow(new_array, cmap = 'gray')\n",
    "plt.show()"
   ]
  },
  {
   "cell_type": "code",
   "execution_count": 5,
   "id": "02601ad7-0431-4f71-b39e-d830f4b66d1d",
   "metadata": {},
   "outputs": [],
   "source": [
    "training_data = []\n",
    "neg_num = len(os.listdir('training_songs/negatives'))\n",
    "pos_num = len(os.listdir('training_songs/positives'))\n",
    "def create_training_data():\n",
    "    for category in CATEGORIES:\n",
    "        path = os.path.join(DATADIR, category)\n",
    "        class_num = CATEGORIES.index(category)\n",
    "        for img in os.listdir(path):\n",
    "            try:\n",
    "                img_array = cv2.imread(os.path.join(path,img), cv2.IMREAD_GRAYSCALE)\n",
    "                # new_array = cv2.resize(img_array, (69, 120))\n",
    "                training_data.append([img_array, class_num])\n",
    "            except Exception as e:\n",
    "                pass\n",
    "                \n",
    "create_training_data()"
   ]
  },
  {
   "cell_type": "code",
   "execution_count": 6,
   "id": "90bea739-a085-4b55-a6cb-44cada45bb09",
   "metadata": {},
   "outputs": [
    {
     "name": "stdout",
     "output_type": "stream",
     "text": [
      "37264\n",
      "18632\n"
     ]
    }
   ],
   "source": [
    "print(len(training_data))\n",
    "training_data_negs = training_data[:neg_num]\n",
    "\n",
    "training_data_pos = training_data[neg_num:]\n",
    "print(len(training_data_pos))\n",
    "import random\n",
    "random.shuffle(training_data_negs)\n"
   ]
  },
  {
   "cell_type": "code",
   "execution_count": 7,
   "id": "66e3c254-e887-4a3d-a4a8-48bb5d631441",
   "metadata": {},
   "outputs": [
    {
     "name": "stdout",
     "output_type": "stream",
     "text": [
      "37264\n"
     ]
    }
   ],
   "source": [
    "training_data_negs = training_data_negs[:pos_num]\n",
    "training_data = training_data_negs + training_data_pos\n",
    "print(len(training_data))"
   ]
  },
  {
   "cell_type": "code",
   "execution_count": 8,
   "id": "9e05e7cd-25f2-449f-a559-5470e4793cb7",
   "metadata": {},
   "outputs": [
    {
     "name": "stdout",
     "output_type": "stream",
     "text": [
      "0\n",
      "1\n"
     ]
    }
   ],
   "source": [
    "print(training_data[pos_num - 1][1])\n",
    "print(training_data[pos_num][1])"
   ]
  },
  {
   "cell_type": "code",
   "execution_count": 9,
   "id": "536c6494-dba2-4050-9c92-3c5c96d673a3",
   "metadata": {},
   "outputs": [],
   "source": [
    "import random\n",
    "\n",
    "random.shuffle(training_data)"
   ]
  },
  {
   "cell_type": "code",
   "execution_count": 10,
   "id": "93ea3924-61db-47b9-b45f-a315233a42fb",
   "metadata": {},
   "outputs": [
    {
     "name": "stdout",
     "output_type": "stream",
     "text": [
      "1\n",
      "[[38 17 19 ... 55 55 47]\n",
      " [54 58 58 ... 58 61 51]\n",
      " [53 64 73 ... 31 43 26]\n",
      " ...\n",
      " [33 34  0 ... 12  0 32]\n",
      " [38 28 19 ... 14 21 44]\n",
      " [25 18 11 ... 32 37 41]]\n"
     ]
    }
   ],
   "source": [
    "print(training_data[0][1])\n",
    "print(training_data[0][0])"
   ]
  },
  {
   "cell_type": "code",
   "execution_count": 11,
   "id": "b0c86cdc-b17e-4710-8555-230337d02efc",
   "metadata": {},
   "outputs": [],
   "source": [
    "X = []\n",
    "y = []"
   ]
  },
  {
   "cell_type": "code",
   "execution_count": 12,
   "id": "9709c410-10da-4f54-bdc3-328041beffac",
   "metadata": {},
   "outputs": [
    {
     "name": "stdout",
     "output_type": "stream",
     "text": [
      "(623, 69)\n"
     ]
    }
   ],
   "source": [
    "for features, label in training_data:\n",
    "    X.append(features)\n",
    "    y.append(label)\n",
    "\n",
    "print(np.shape(X[0]))\n",
    "    \n",
    "X = np.array(X).reshape(-1, 623, 69, 1)"
   ]
  },
  {
   "cell_type": "code",
   "execution_count": 13,
   "id": "962d70f4-94eb-450c-9edc-a24e8fd7f62b",
   "metadata": {},
   "outputs": [],
   "source": [
    "import pickle\n",
    "\n",
    "pickle_out = open(\"lab_data_songsX.pickle\",\"wb\")\n",
    "pickle.dump(X, pickle_out)\n",
    "pickle_out.close()\n",
    "\n",
    "pickle_out = open(\"lab_data_songsy.pickle\",\"wb\")\n",
    "pickle.dump(y, pickle_out)\n",
    "pickle_out.close()"
   ]
  },
  {
   "cell_type": "code",
   "execution_count": 14,
   "id": "cf63a27b-e9c6-4adb-b88f-ce064f1fc333",
   "metadata": {},
   "outputs": [],
   "source": [
    "pickle_in = open(\"lab_data_songsX.pickle\",\"rb\")\n",
    "X = pickle.load(pickle_in)"
   ]
  },
  {
   "cell_type": "code",
   "execution_count": 16,
   "id": "42dddc0e-387d-4e9b-9d7e-1d03cf0297e2",
   "metadata": {},
   "outputs": [],
   "source": [
    "pickle_in_y = open(\"lab_data_songsy.pickle\",\"rb\")\n",
    "y = pickle.load(pickle_in_y)"
   ]
  },
  {
   "cell_type": "code",
   "execution_count": 22,
   "id": "c55d85dd-d559-4d5c-b4e6-716f965442d8",
   "metadata": {},
   "outputs": [
    {
     "name": "stdout",
     "output_type": "stream",
     "text": [
      "[[[86]\n",
      "  [93]\n",
      "  [76]\n",
      "  ...\n",
      "  [88]\n",
      "  [86]\n",
      "  [72]]\n",
      "\n",
      " [[64]\n",
      "  [85]\n",
      "  [97]\n",
      "  ...\n",
      "  [88]\n",
      "  [68]\n",
      "  [63]]\n",
      "\n",
      " [[76]\n",
      "  [81]\n",
      "  [85]\n",
      "  ...\n",
      "  [73]\n",
      "  [76]\n",
      "  [83]]\n",
      "\n",
      " ...\n",
      "\n",
      " [[40]\n",
      "  [59]\n",
      "  [47]\n",
      "  ...\n",
      "  [56]\n",
      "  [49]\n",
      "  [57]]\n",
      "\n",
      " [[63]\n",
      "  [59]\n",
      "  [40]\n",
      "  ...\n",
      "  [41]\n",
      "  [36]\n",
      "  [55]]\n",
      "\n",
      " [[58]\n",
      "  [34]\n",
      "  [61]\n",
      "  ...\n",
      "  [14]\n",
      "  [ 8]\n",
      "  [45]]]\n"
     ]
    },
    {
     "data": {
      "text/plain": [
       "<matplotlib.image.AxesImage at 0x11e66e86910>"
      ]
     },
     "execution_count": 22,
     "metadata": {},
     "output_type": "execute_result"
    },
    {
     "data": {
      "image/png": "[encoded data removed]",
      "text/plain": [
       "<Figure size 432x288 with 1 Axes>"
      ]
     },
     "metadata": {
      "needs_background": "light"
     },
     "output_type": "display_data"
    }
   ],
   "source": [
    "print(X[2])\n",
    "img_test = X[5][1:]\n",
    "plt.imshow(img_test, cmap=\"gray\")"
   ]
  },
  {
   "cell_type": "code",
   "execution_count": 23,
   "id": "feaf85e0-7983-43f6-bda0-c3331df0ec6b",
   "metadata": {},
   "outputs": [
    {
     "name": "stdout",
     "output_type": "stream",
     "text": [
      "0\n"
     ]
    }
   ],
   "source": [
    "print(y[5])"
   ]
  },
  {
   "cell_type": "code",
   "execution_count": null,
   "id": "b031dc97-09a7-419a-9347-4d3ee88c1f76",
   "metadata": {},
   "outputs": [],
   "source": []
  }
 ],
 "metadata": {
  "kernelspec": {
   "display_name": "Python 3 (ipykernel)",
   "language": "python",
   "name": "python3"
  },
  "language_info": {
   "codemirror_mode": {
    "name": "ipython",
    "version": 3
   },
   "file_extension": ".py",
   "mimetype": "text/x-python",
   "name": "python",
   "nbconvert_exporter": "python",
   "pygments_lexer": "ipython3",
   "version": "3.11.5"
  }
 },
 "nbformat": 4,
 "nbformat_minor": 5
}
