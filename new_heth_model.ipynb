{
  "nbformat": 4,
  "nbformat_minor": 0,
  "metadata": {
    "colab": {
      "provenance": [],
      "machine_shape": "hm",
      "gpuType": "T4",
      "toc_visible": true
    },
    "kernelspec": {
      "name": "python3",
      "display_name": "Python 3"
    },
    "language_info": {
      "name": "python"
    },
    "accelerator": "GPU"
  },
  "cells": [
    {
      "cell_type": "code",
      "source": [
        "from google.colab import drive\n",
        "drive.mount('/content/drive')"
      ],
      "metadata": {
        "colab": {
          "base_uri": "https://localhost:8080/"
        },
        "id": "NY5rS0ObNuCW",
        "outputId": "afedcdc7-ac0b-4387-e382-fb8423eb2914"
      },
      "execution_count": null,
      "outputs": [
        {
          "output_type": "stream",
          "name": "stdout",
          "text": [
            "Mounted at /content/drive\n"
          ]
        }
      ]
    },
    {
      "cell_type": "code",
      "source": [
        "import tensorflow as tf\n",
        "from tensorflow.keras.models import Sequential\n",
        "from tensorflow.keras.layers import Dense, Dropout, Activation, Flatten, Conv2D, MaxPooling2D\n",
        "import pickle\n",
        "import numpy as np\n",
        "from tensorflow.keras.callbacks import TensorBoard\n",
        "import time\n",
        "\n",
        "\n",
        "# tf.debugging.set_log_device_placement(True)\n",
        "# print(\"Num GPUs Available: \", len(tf.config.list_physical_devices('GPU')))\n",
        "NAME= \"songs-cnn-noreshape-32conv-32den-{}\".format(int(time.time()))\n",
        "\n",
        "tensorboard = TensorBoard(log_dir='songlogs/{}'.format(NAME))\n",
        "\n",
        "X = pickle.load(open(\"/content/drive/MyDrive/ColabNotebooks/lab_data_songsX.pickle\",\"rb\"))\n",
        "y = pickle.load(open(\"/content/drive/MyDrive/ColabNotebooks/lab_data_songsy.pickle\",\"rb\"))\n",
        "\n",
        "X = X/255.0\n",
        "\n",
        "# print((X[0][0]))\n",
        "y = np.array(y)\n",
        "\n",
        "\n",
        "\n"
      ],
      "metadata": {
        "id": "UT_RF5_NKUYF"
      },
      "execution_count": null,
      "outputs": []
    },
    {
      "cell_type": "markdown",
      "source": [
        "# New Section"
      ],
      "metadata": {
        "id": "BNG3xsu4eBzz"
      }
    },
    {
      "cell_type": "code",
      "source": [
        "x_min = X.min(axis=(1, 2), keepdims=True)\n",
        "x_max = X.max(axis=(1, 2), keepdims=True)\n",
        "X = (X - x_min)/(x_max-x_min)"
      ],
      "metadata": {
        "id": "90I-sx1nGilX"
      },
      "execution_count": null,
      "outputs": []
    },
    {
      "cell_type": "code",
      "source": [
        "print(np.max(X[1]))\n",
        "print(np.min(X[1]))"
      ],
      "metadata": {
        "colab": {
          "base_uri": "https://localhost:8080/"
        },
        "id": "w4YyePqR6eoF",
        "outputId": "6d7782df-3e56-42d8-e0b8-b5ee1c0e5d73"
      },
      "execution_count": null,
      "outputs": [
        {
          "output_type": "stream",
          "name": "stdout",
          "text": [
            "1.0\n",
            "0.0\n"
          ]
        }
      ]
    },
    {
      "cell_type": "code",
      "source": [
        "\n",
        "\n",
        "dense_layers = [0,1,2] # was 0, 1, 2\n",
        "layer_sizes = [32, 64, 128] # was 32, 64, 128\n",
        "conv_layers = [1, 2, 3] #was 1, 2, 3\n",
        "\n",
        "for dense_layer in dense_layers:\n",
        "    for layer_size in layer_sizes:\n",
        "        for conv_layer in conv_layers:\n",
        "            NAME = \"{}-conv-{}-nodes-{}-dense-{}\".format(conv_layer, layer_size, dense_layer, int(time.time()))\n",
        "            print(NAME)\n",
        "\n",
        "            model = Sequential()\n",
        "\n",
        "            model.add(Conv2D(layer_size, (3, 3), input_shape=X.shape[1:]))\n",
        "            model.add(Activation('relu'))\n",
        "            model.add(MaxPooling2D(pool_size=(2, 2)))\n",
        "\n",
        "            for l in range(conv_layer-1):\n",
        "                model.add(Conv2D(layer_size, (3, 3)))\n",
        "                model.add(Activation('relu'))\n",
        "                model.add(MaxPooling2D(pool_size=(2, 2), padding='same'))\n",
        "\n",
        "            model.add(Flatten())\n",
        "\n",
        "            for _ in range(dense_layer):\n",
        "                model.add(Dense(layer_size))\n",
        "                model.add(Activation('relu'))\n",
        "\n",
        "            model.add(Dense(1))\n",
        "            model.add(Activation('sigmoid'))\n",
        "\n",
        "            tensorboard = TensorBoard(log_dir=\"logs/{}\".format(NAME))\n",
        "\n",
        "            model.compile(loss='binary_crossentropy',\n",
        "                          optimizer='Adam',\n",
        "                          metrics=['accuracy'],\n",
        "                          )\n",
        "\n",
        "            model.fit(X, y,\n",
        "                      batch_size=32,\n",
        "                      epochs=10,\n",
        "                      validation_split=0.2,\n",
        "                      callbacks=[tensorboard])"
      ],
      "metadata": {
        "id": "nnEiyFgf1FAB",
        "colab": {
          "base_uri": "https://localhost:8080/"
        },
        "outputId": "67db97fd-f8d3-449e-c756-9b2b679cfe68"
      },
      "execution_count": null,
      "outputs": [
        {
          "output_type": "stream",
          "name": "stdout",
          "text": [
            "3-conv-128-nodes-2-dense-1697305084\n",
            "Epoch 1/10\n",
            "932/932 [==============================] - 109s 111ms/step - loss: 0.2203 - accuracy: 0.9104 - val_loss: 0.1155 - val_accuracy: 0.9581\n",
            "Epoch 2/10\n",
            "932/932 [==============================] - 99s 106ms/step - loss: 0.0937 - accuracy: 0.9682 - val_loss: 0.0867 - val_accuracy: 0.9724\n",
            "Epoch 3/10\n",
            "932/932 [==============================] - 99s 106ms/step - loss: 0.0605 - accuracy: 0.9785 - val_loss: 0.1040 - val_accuracy: 0.9677\n",
            "Epoch 4/10\n",
            "932/932 [==============================] - 99s 106ms/step - loss: 0.0407 - accuracy: 0.9856 - val_loss: 0.1083 - val_accuracy: 0.9647\n",
            "Epoch 5/10\n",
            "932/932 [==============================] - 99s 106ms/step - loss: 0.0271 - accuracy: 0.9906 - val_loss: 0.0906 - val_accuracy: 0.9792\n",
            "Epoch 6/10\n",
            "932/932 [==============================] - 98s 106ms/step - loss: 0.0220 - accuracy: 0.9928 - val_loss: 0.1170 - val_accuracy: 0.9712\n",
            "Epoch 7/10\n",
            "932/932 [==============================] - 98s 105ms/step - loss: 0.0164 - accuracy: 0.9945 - val_loss: 0.1036 - val_accuracy: 0.9764\n",
            "Epoch 8/10\n",
            "932/932 [==============================] - 98s 105ms/step - loss: 0.0115 - accuracy: 0.9961 - val_loss: 0.1772 - val_accuracy: 0.9722\n",
            "Epoch 9/10\n",
            "932/932 [==============================] - 98s 105ms/step - loss: 0.0098 - accuracy: 0.9968 - val_loss: 0.1381 - val_accuracy: 0.9768\n",
            "Epoch 10/10\n",
            "932/932 [==============================] - 98s 105ms/step - loss: 0.0124 - accuracy: 0.9961 - val_loss: 0.1517 - val_accuracy: 0.9777\n"
          ]
        }
      ]
    },
    {
      "cell_type": "code",
      "source": [
        "model.save(\"oct14_98_lab_songs.model\")"
      ],
      "metadata": {
        "id": "OzWDqHwIvrhG"
      },
      "execution_count": null,
      "outputs": []
    }
  ]
}